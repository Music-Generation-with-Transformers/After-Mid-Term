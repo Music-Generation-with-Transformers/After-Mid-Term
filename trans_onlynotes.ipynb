{
 "cells": [
  {
   "cell_type": "code",
   "execution_count": 110,
   "metadata": {},
   "outputs": [],
   "source": [
    "from music21 import *"
   ]
  },
  {
   "cell_type": "code",
   "execution_count": 111,
   "metadata": {},
   "outputs": [],
   "source": [
    "#function to transpose the note to the reference C \n",
    "def transpose(rootnote, untransposed_note):\n",
    "    # p and q to convert notename to midinumber if notename is passed to this function\n",
    "    p = pitch.Pitch(rootnote).midi\n",
    "    q = pitch.Pitch(untransposed_note).midi\n",
    "    x = q - p\n",
    "    midi_note = note.Note()\n",
    "    midi_note.pitch.midi = x\n",
    "    print(midi_note.name)    "
   ]
  },
  {
   "cell_type": "code",
   "execution_count": 112,
   "metadata": {},
   "outputs": [
    {
     "name": "stdout",
     "output_type": "stream",
     "text": [
      "C#\n"
     ]
    }
   ],
   "source": [
    "# if you have note name, you can also pass it to transpose function, cause our function can convert them to midi numbers\n",
    "a = 'e0'\n",
    "b = 'f0'\n",
    "transposed_note = transpose(a, b)"
   ]
  },
  {
   "cell_type": "code",
   "execution_count": 113,
   "metadata": {},
   "outputs": [
    {
     "name": "stdout",
     "output_type": "stream",
     "text": [
      "C#\n"
     ]
    }
   ],
   "source": [
    "# if you have midi number, you can pass it directly\n",
    "s = 16\n",
    "t = 17\n",
    "transposed_note = transpose(s,t)"
   ]
  }
 ],
 "metadata": {
  "kernelspec": {
   "display_name": "Python 3",
   "language": "python",
   "name": "python3"
  },
  "language_info": {
   "codemirror_mode": {
    "name": "ipython",
    "version": 3
   },
   "file_extension": ".py",
   "mimetype": "text/x-python",
   "name": "python",
   "nbconvert_exporter": "python",
   "pygments_lexer": "ipython3",
   "version": "3.10.4"
  },
  "orig_nbformat": 4,
  "vscode": {
   "interpreter": {
    "hash": "928db57fa97364b9b019f963370c1fdf7d3044b94bbfb1c70c9a3a5d485d1578"
   }
  }
 },
 "nbformat": 4,
 "nbformat_minor": 2
}
